{
 "metadata": {
  "name": ""
 },
 "nbformat": 3,
 "nbformat_minor": 0,
 "worksheets": [
  {
   "cells": [
    {
     "cell_type": "code",
     "collapsed": false,
     "input": [
      "#######-------------------------------------------------------------------------------------\n",
      "#######Easy-phi project: http://easy-phi.ch/\n",
      "#######Developer : Raphael Houlmann, University of Geneva 2014\n",
      "#######Licensed under GPL, for details report to: http://easy-phi.ch/index.php/about/licensing\n",
      "#######Do NOT remove this notice\n",
      "#######-------------------------------------------------------------------------------------\n"
     ],
     "language": "python",
     "metadata": {},
     "outputs": [],
     "prompt_number": 5
    },
    {
     "cell_type": "markdown",
     "metadata": {},
     "source": [
      "In order to use the followind code an Easy-phi rack needs to be available over the network.\n",
      "First we need to find where the Easy-phi rack is connected and define the IP address.\n",
      "The standard port to communicate with the rack is 5555."
     ]
    },
    {
     "cell_type": "code",
     "collapsed": false,
     "input": [
      "ip = \"10.194.116.98\"\n",
      "port = \"5555\"\n"
     ],
     "language": "python",
     "metadata": {},
     "outputs": [],
     "prompt_number": 6
    },
    {
     "cell_type": "markdown",
     "metadata": {},
     "source": [
      "The rack is then accessed used ZMQ: http://zeromq.org/\n",
      "The choice of ZMQ was made because it is crossed platform and can be used with a variety of languages including C, C++, Java, .NET, Python, PHP. So the following code could most probably be translated into your favorite language. The transactions use a simple request-reply scheme.\n",
      "First we will connect a socket to the rack:\n"
     ]
    },
    {
     "cell_type": "raw",
     "metadata": {},
     "source": [
      "From http://zeromq.org/ : In many cases, pyzmq can be installed with:\n",
      "\n",
      "# (Windows or OS X)\n",
      "easy_install pyzmq\n",
      "# or\n",
      "pip install --wheel pyzmq\n",
      "# or (pretty much anywhere)\n",
      "pip install pyzmq"
     ]
    },
    {
     "cell_type": "code",
     "collapsed": false,
     "input": [
      "import zmq\n",
      "context = zmq.Context()\n",
      "socket = context.socket(zmq.REQ)\n",
      "socket.connect(\"tcp://%s:%s\" % (ip,port))\n"
     ],
     "language": "python",
     "metadata": {},
     "outputs": [],
     "prompt_number": 7
    },
    {
     "cell_type": "markdown",
     "metadata": {},
     "source": [
      "Then we can try, send a message and and check the answer"
     ]
    },
    {
     "cell_type": "code",
     "collapsed": false,
     "input": [
      "message = \"test\"\n",
      "socket.send(message) \n",
      "answer = socket.recv()        \n",
      "print answer\n"
     ],
     "language": "python",
     "metadata": {},
     "outputs": [
      {
       "output_type": "stream",
       "stream": "stdout",
       "text": [
        "Error command not found\n"
       ]
      }
     ],
     "prompt_number": 9
    },
    {
     "cell_type": "markdown",
     "metadata": {},
     "source": [
      "Here the server answers \"Error command not found\" as \"test\" isn't a recognized (SCPI) messsage kown by the server.\n",
      "Let's try with a standard command:"
     ]
    },
    {
     "cell_type": "code",
     "collapsed": false,
     "input": [
      "message = \"slot:1:type?\"\n",
      "socket.send(message) \n",
      "answer = socket.recv()        \n",
      "print answer\n"
     ],
     "language": "python",
     "metadata": {},
     "outputs": [
      {
       "output_type": "stream",
       "stream": "stdout",
       "text": [
        "High-Speed Clock Generator v1\r\n"
       ]
      }
     ],
     "prompt_number": 12
    },
    {
     "cell_type": "markdown",
     "metadata": {},
     "source": [
      "Here we ask the rack which type of module is in the slot 1. If no module is present the rack will answer \"none\" else the name of the module will be returned like: \"High-Speed Clock Generator v1\".\n",
      "So when a module is present we can access it on a similar message queue as the rack on another port. The standard port for a rack is 5555 + the slot number. So if the module is in the first slot the port will be 5556. Lets try to connect:"
     ]
    },
    {
     "cell_type": "code",
     "collapsed": false,
     "input": [
      "slot = 1\n",
      "port_module1 = str(int(port) + slot) ### 5555 + slotnumber\n",
      "context_module1 = zmq.Context()\n",
      "socket_module1 = context_module1.socket(zmq.REQ)\n",
      "socket_module1.connect(\"tcp://%s:%s\" % (ip,port_module1))\n"
     ],
     "language": "python",
     "metadata": {},
     "outputs": [],
     "prompt_number": 16
    },
    {
     "cell_type": "markdown",
     "metadata": {},
     "source": [
      "And send a command to the module, i.e. a standard command like: SYSTem:NAME?"
     ]
    },
    {
     "cell_type": "code",
     "collapsed": false,
     "input": [
      "message = \"SYSTem:NAME?\"\n",
      "socket_module1.send(message) \n",
      "answer = socket_module1.recv()        \n",
      "print answer"
     ],
     "language": "python",
     "metadata": {},
     "outputs": [
      {
       "output_type": "stream",
       "stream": "stdout",
       "text": [
        "High-Speed Clock Generator v1\r\n"
       ]
      }
     ],
     "prompt_number": 18
    },
    {
     "cell_type": "markdown",
     "metadata": {},
     "source": [
      "This again returns the name of the module.\n",
      "Next we can any command that is specific to the module, like for the High-Speed Clock Generator: \"CONFigure:OUT1?\" that defined what is connected to Output1."
     ]
    },
    {
     "cell_type": "code",
     "collapsed": false,
     "input": [
      "message = \"CONFigure:OUT1?\"\n",
      "socket_module1.send(message) \n",
      "answer = socket_module1.recv()        \n",
      "print answer"
     ],
     "language": "python",
     "metadata": {},
     "outputs": [
      {
       "output_type": "stream",
       "stream": "stdout",
       "text": [
        "IN\r\n"
       ]
      }
     ],
     "prompt_number": 19
    },
    {
     "cell_type": "code",
     "collapsed": false,
     "input": [],
     "language": "python",
     "metadata": {},
     "outputs": []
    }
   ],
   "metadata": {}
  }
 ]
}